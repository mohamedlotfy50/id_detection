{
 "cells": [
  {
   "cell_type": "code",
   "execution_count": 11,
   "metadata": {},
   "outputs": [],
   "source": [
    "import numpy as np\n",
    "import cv2 as cv\n",
    "import csv \n",
    "import tensorflow as tf\n",
    "from keras.layers import Conv2D,BatchNormalization,MaxPooling2D,Dense,Input,Concatenate,Resizing,Reshape,Flatten\n",
    "from keras import Model\n"
   ]
  },
  {
   "cell_type": "code",
   "execution_count": 12,
   "metadata": {},
   "outputs": [],
   "source": [
    "csv_ds = 'dataset\\\\image_csv\\\\ds_images.csv'"
   ]
  },
  {
   "cell_type": "code",
   "execution_count": 13,
   "metadata": {},
   "outputs": [],
   "source": [
    "csv_data = []\n",
    "\n",
    "with open(csv_ds,'r',encoding='utf-8') as f:\n",
    "    csv_reader = csv.reader(f)\n",
    "    next(csv_reader)\n",
    "    for row in csv_reader:\n",
    "        if len(row)>0:\n",
    "            csv_data.append(row)\n",
    "ids = [i for i in range(len(csv_data))]"
   ]
  },
  {
   "cell_type": "code",
   "execution_count": 14,
   "metadata": {},
   "outputs": [],
   "source": [
    "def string_to_tuple(string_data,normalize = (1,1)):\n",
    "    list_data = string_data.split(',')\n",
    "    int_val1 = int(list_data[0]) / normalize[0]\n",
    "    int_val2 = int(list_data[1]) / normalize[1]\n",
    "    \n",
    "    return (round(int_val1, 3),round(int_val2, 3))"
   ]
  },
  {
   "cell_type": "code",
   "execution_count": 15,
   "metadata": {},
   "outputs": [],
   "source": [
    "def load_data(ids):\n",
    "    images  = []\n",
    "    lables = []\n",
    "    for id in ids:\n",
    "        image_location =csv_data[id][0]\n",
    "        img = cv.imread(image_location)\n",
    "        img = cv.cvtColor(img, cv.COLOR_BGR2GRAY)/255.0\n",
    "        img = cv.resize(img,(img.shape[0]//2,img.shape[1]//2),interpolation = cv.INTER_LANCZOS4)\n",
    "        img_p1 = string_to_tuple(csv_data[id][3],img.shape)\n",
    "        img_p2 = string_to_tuple(csv_data[id][4],img.shape)\n",
    "        name_p1 = string_to_tuple(csv_data[id][5],img.shape)\n",
    "        name_p2 = string_to_tuple(csv_data[id][6],img.shape)\n",
    "        id_p1 = string_to_tuple(csv_data[id][7],img.shape)\n",
    "        id_p2 = string_to_tuple(csv_data[id][8],img.shape)\n",
    "        lables.append(np.array([img_p1[0],img_p1[1],img_p2[0],img_p2[1],name_p1[0],name_p1[1],name_p2[0],name_p2[1],id_p1[0],id_p1[1],id_p2[0],id_p2[1]]))\n",
    "        images.append(img.reshape((640, 410,1)))\n",
    "\n",
    "    return np.array(images),np.array(lables)\n"
   ]
  },
  {
   "cell_type": "code",
   "execution_count": 16,
   "metadata": {},
   "outputs": [],
   "source": [
    "def batch_generator(ids, batch_size = 32):\n",
    "    batch=[]\n",
    "    while True:\n",
    "            np.random.shuffle(ids) \n",
    "            for i in ids:\n",
    "                batch.append(i)\n",
    "                if len(batch)==batch_size:\n",
    "                    yield load_data(batch)\n",
    "                    batch=[]\n",
    "            break"
   ]
  },
  {
   "cell_type": "code",
   "execution_count": null,
   "metadata": {},
   "outputs": [],
   "source": []
  },
  {
   "cell_type": "code",
   "execution_count": 17,
   "metadata": {},
   "outputs": [],
   "source": [
    "def object_detection_model():\n",
    "    inputs = Input(shape=(640, 410,1)) #TODO: resize\n",
    "    # TODO: reshape \n",
    "    # feature extraction\n",
    "    x = Conv2D(8,(7,7) ,activation= 'relu')(inputs)\n",
    "    x= BatchNormalization()(x)\n",
    "    x= MaxPooling2D((3,3))(x)\n",
    "\n",
    "    x = Conv2D(8,(7,7) ,activation= 'relu')(x)\n",
    "    x= BatchNormalization()(x)\n",
    "    x= MaxPooling2D((3,3))(x)\n",
    "\n",
    "    x = Conv2D(32,(3,3) ,activation= 'relu')(x)\n",
    "    x= BatchNormalization()(x)\n",
    "    x= MaxPooling2D((3,3))(x)\n",
    "    # multy head\n",
    "        ## image head\n",
    "    img = Conv2D(64,(3,3),activation='relu')(x)\n",
    "    img= BatchNormalization()(img)\n",
    "    img= MaxPooling2D((3,3))(img)\n",
    "    img = Flatten()(img)\n",
    "    img = Dense(8, 'relu')(img)\n",
    "    img = Dense(4,'relu')(img)\n",
    "        ## name head \n",
    "    name = Conv2D(64,(3,3),activation='relu')(x)\n",
    "    name= BatchNormalization()(name)\n",
    "    name= MaxPooling2D((3,3))(name)\n",
    "    name = Flatten()(name)\n",
    "\n",
    "    name = Dense(16, 'relu')(name)\n",
    "    name = Dense(4,'relu')(name)\n",
    "\n",
    "        ## id head\n",
    "    id = Conv2D(64,(3,3),activation='relu')(x)\n",
    "    id= BatchNormalization()(id)\n",
    "    id= MaxPooling2D((3,3))(id)\n",
    "    id = Flatten()(id)\n",
    "    id = Dense(16, 'relu')(id)\n",
    "    id = Dense(4,'relu')(id)\n",
    "    # concatendate output\n",
    "    conc = Concatenate()([img,name,id])\n",
    "    output = Dense(12,'sigmoid')\n",
    "    return Model(inputs= inputs,outputs =conc ,name= 'id_card_detection')"
   ]
  },
  {
   "cell_type": "code",
   "execution_count": 18,
   "metadata": {},
   "outputs": [],
   "source": [
    "model = object_detection_model()\n"
   ]
  },
  {
   "cell_type": "code",
   "execution_count": 19,
   "metadata": {},
   "outputs": [],
   "source": [
    "model.compile(optimizer=tf.keras.optimizers.Adam(),loss='mse',metrics=['accuracy'])"
   ]
  },
  {
   "cell_type": "code",
   "execution_count": 22,
   "metadata": {},
   "outputs": [
    {
     "name": "stdout",
     "output_type": "stream",
     "text": [
      "Epoch 1/100\n",
      "162/162 [==============================] - 94s 582ms/step - loss: 0.3120 - accuracy: 0.5600\n",
      "Epoch 2/100\n",
      "WARNING:tensorflow:Your input ran out of data; interrupting training. Make sure that your dataset or generator can generate at least `steps_per_epoch * epochs` batches (in this case, 16200 batches). You may need to use the repeat() function when building your dataset.\n",
      "162/162 [==============================] - 0s 160us/step - loss: 0.3120 - accuracy: 0.5600\n"
     ]
    },
    {
     "data": {
      "text/plain": [
       "<keras.callbacks.History at 0x1d4864b4f70>"
      ]
     },
     "execution_count": 22,
     "metadata": {},
     "output_type": "execute_result"
    }
   ],
   "source": [
    "model.fit(batch_generator(ids),epochs=100)"
   ]
  },
  {
   "cell_type": "code",
   "execution_count": null,
   "metadata": {},
   "outputs": [],
   "source": []
  }
 ],
 "metadata": {
  "kernelspec": {
   "display_name": "tf",
   "language": "python",
   "name": "python3"
  },
  "language_info": {
   "codemirror_mode": {
    "name": "ipython",
    "version": 3
   },
   "file_extension": ".py",
   "mimetype": "text/x-python",
   "name": "python",
   "nbconvert_exporter": "python",
   "pygments_lexer": "ipython3",
   "version": "3.9.15"
  },
  "orig_nbformat": 4,
  "vscode": {
   "interpreter": {
    "hash": "186adfd85bcf33c207e89d3fc14b51c68d12dee581db2bb7d6a500bc82a7a413"
   }
  }
 },
 "nbformat": 4,
 "nbformat_minor": 2
}
